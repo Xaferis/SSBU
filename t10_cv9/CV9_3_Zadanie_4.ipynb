{
 "cells": [
  {
   "cell_type": "markdown",
   "id": "6854f873-5d15-4d3c-a71b-8858b7de6d12",
   "metadata": {},
   "source": [
    "## Zadanie 4 (5b)\n",
    "\n",
    "V tomto zadaní budete pracovať s nástrojom FamLinkX a datasetom **dna_screening_zadanie** dostupným v priečinku `inputs`. \n",
    "\n",
    "Dataset obsahuje údaje matky, dcéry a dvoch strýkov, ktorí sú bratmi muža, u ktorého predpokladáme, že je otcom dcéry. Je potrebné potvrdiť alebo vyvrátiť či bol muž otcom dievčaťa. Pomocou nástroja FamLinkX zostavte hypotézy s rodokmeňom členov, vykonajte analýzu, určte výsledné pravdepodobnosti hypotéz a uveďte výsledné rozhodnutie na potvrdenie/zamietnutie otcovstva.\n",
    "\n",
    "<img src=\"data/family_tree.png\" width=\"100%\"/>"
   ]
  },
  {
   "cell_type": "markdown",
   "id": "8af7058b-20cf-4ece-8c7f-e2f38c33e94f",
   "metadata": {},
   "source": [
    "### Úloha 1 (1b)"
   ]
  },
  {
   "cell_type": "markdown",
   "id": "8ceeaa27-3e3e-4b13-9251-2a375fc948d1",
   "metadata": {},
   "source": [
    "**Formulujte hypotézy pre riešenie úlohy:**"
   ]
  },
  {
   "cell_type": "markdown",
   "id": "edd3467b-27b5-4fba-bc45-5f6f9d9687bf",
   "metadata": {},
   "source": [
    "- H0: Dvaja bratia otca (strykovia dietata), mama a dieta, su pribuzni, otec nezije -> dieta je pribuzne (neter) s bratmi otca.\n",
    "- HA: Dvaja bratia otca (strykovia dietata), mama a dieta, nie su pribuzni, otec nezije -> dieta nie je pribuzne (neterou) s bratmi otca"
   ]
  },
  {
   "cell_type": "markdown",
   "id": "96a14512-f20f-499c-8398-d7cd3e6d1289",
   "metadata": {},
   "source": [
    "### Úloha 2 (4b)\n",
    "\n",
    "Vykonajte analýzu pomocou nástroja FamLinkX. Ako referenčnú databázu použite Českú alebo Nemeckú databázu. Ako prílohu zadania odovzdajte vygenerovaný report z analýzy (Case report vo formáte .rtf). \n",
    "\n",
    "**Uveďte LR a pravdepodobnosť (W) pre jednotlivé hypotézy a Váš záver analýzy:**"
   ]
  },
  {
   "cell_type": "markdown",
   "id": "27e3ff31-8a10-4ca5-808c-03277d54dafd",
   "metadata": {},
   "source": [
    "- LR (exact) = 7,04264x10^6\n",
    "- W = LR/LR+1 = 99,999%"
   ]
  },
  {
   "cell_type": "markdown",
   "id": "0bcc25cb-b6fa-4c09-ae12-024cae13a59d",
   "metadata": {},
   "source": [
    "<img src=\"data/Screenshot 2024-05-11 at 19.02.44.png\" width=\"50%\"/>"
   ]
  },
  {
   "cell_type": "markdown",
   "id": "b71ccd94-4194-4fc9-bdd7-8c9eab0ac55f",
   "metadata": {},
   "source": [
    "<img src=\"data/Screenshot 2024-05-11 at 19.00.45.png\" width=\"50%\"/>\n",
    "<img src=\"data/Screenshot 2024-05-11 at 19.00.55.png\" width=\"50%\"/>"
   ]
  },
  {
   "cell_type": "markdown",
   "id": "667f859a-3a9f-4909-9bda-d97727c10c5d",
   "metadata": {},
   "source": [
    "- pravdepodobnost potvrdenia hypotezy H0 je 99,99%\n",
    "- pravdepodobnost potvrdenia hypotezy HA je 0,01%\n",
    "\n",
    "- Hypoteza H0 je takmer 100% -> je najviac pravdepodobnejsia, preto mozeme prijat hypotezu H0 a mozeme potvrdit, ze bratia muza su strykovia dievcata a to znamena, ze muz je otcom dievcata"
   ]
  }
 ],
 "metadata": {
  "kernelspec": {
   "display_name": "R",
   "language": "R",
   "name": "ir"
  },
  "language_info": {
   "codemirror_mode": "r",
   "file_extension": ".r",
   "mimetype": "text/x-r-source",
   "name": "R",
   "pygments_lexer": "r",
   "version": "4.3.3"
  }
 },
 "nbformat": 4,
 "nbformat_minor": 5
}
